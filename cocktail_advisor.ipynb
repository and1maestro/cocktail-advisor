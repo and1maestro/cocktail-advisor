{
 "cells": [
  {
   "cell_type": "code",
   "id": "initial_id",
   "metadata": {
    "collapsed": true,
    "ExecuteTime": {
     "end_time": "2025-01-25T17:46:43.839600Z",
     "start_time": "2025-01-25T17:46:43.835005Z"
    }
   },
   "source": [
    "# Importing all the necessary libraries\n",
    "import pandas as pd\n",
    "from langchain.agents.agent_types import AgentType\n",
    "from langchain_experimental.agents.agent_toolkits import create_csv_agent\n",
    "from langchain_openai import ChatOpenAI\n",
    "from langchain_community.vectorstores import FAISS\n",
    "from langchain_openai import OpenAIEmbeddings"
   ],
   "outputs": [],
   "execution_count": 100
  },
  {
   "metadata": {},
   "cell_type": "markdown",
   "source": [
    "## Importing and preprocessing the cocktail dataset \n",
    "\n",
    "dataset: https://www.kaggle.com/datasets/aadyasingh55/cocktails"
   ],
   "id": "8386fc3133c37e77"
  },
  {
   "metadata": {
    "ExecuteTime": {
     "end_time": "2025-01-25T10:47:08.513978Z",
     "start_time": "2025-01-25T10:47:08.347556Z"
    }
   },
   "cell_type": "code",
   "source": [
    "df = pd.read_csv('data/final_cocktails.csv', index_col=0)\n",
    "df.head()"
   ],
   "id": "ec9d7b91e6f66f5a",
   "outputs": [
    {
     "data": {
      "text/plain": [
       "   id  name  alcoholic        category       glassType  \\\n",
       "0   0    A1  Alcoholic        Cocktail  Cocktail glass   \n",
       "1   1   ABC  Alcoholic            Shot      Shot glass   \n",
       "2   2   Ace  Alcoholic        Cocktail   Martini Glass   \n",
       "3   3  ACID  Alcoholic            Shot      Shot glass   \n",
       "4   4  Adam  Alcoholic  Ordinary Drink  Cocktail glass   \n",
       "\n",
       "                                        instructions  \\\n",
       "0  Pour all ingredients into a cocktail shaker, m...   \n",
       "1                           Layered in a shot glass.   \n",
       "2  Shake all the ingredients in a cocktail shaker...   \n",
       "3  Poor in the 151 first followed by the 101 serv...   \n",
       "4  In a shaker half-filled with ice cubes, combin...   \n",
       "\n",
       "                                      drinkThumbnail  \\\n",
       "0  https://www.thecocktaildb.com/images/media/dri...   \n",
       "1  https://www.thecocktaildb.com/images/media/dri...   \n",
       "2  https://www.thecocktaildb.com/images/media/dri...   \n",
       "3  https://www.thecocktaildb.com/images/media/dri...   \n",
       "4  https://www.thecocktaildb.com/images/media/dri...   \n",
       "\n",
       "                                         ingredients  \\\n",
       "0  ['Gin', 'Grand Marnier', 'Lemon Juice', 'Grena...   \n",
       "1      ['Amaretto', 'Baileys irish cream', 'Cognac']   \n",
       "2  ['Gin', 'Grenadine', 'Heavy cream', 'Milk', 'E...   \n",
       "3                   ['151 proof rum', 'Wild Turkey']   \n",
       "4           ['Dark rum', 'Lemon juice', 'Grenadine']   \n",
       "\n",
       "                                  ingredientMeasures  \\\n",
       "0  ['1 3/4 shot ', '1 Shot ', '1/4 Shot', '1/8 Sh...   \n",
       "1                           ['1/3 ', '1/3 ', '1/3 ']   \n",
       "2  ['2 shots ', '1/2 shot ', '1/2 shot ', '1/2 sh...   \n",
       "3                         ['1 oz Bacardi ', '1 oz ']   \n",
       "4                       ['2 oz ', '1 oz ', '1 tsp ']   \n",
       "\n",
       "                                                text  \n",
       "0  question Generate a cocktail with Gin Grand Ma...  \n",
       "1  question Generate a cocktail with Amaretto Bai...  \n",
       "2  question Generate a cocktail with Gin Grenadin...  \n",
       "3  question Generate a cocktail with 151 proof ru...  \n",
       "4  question Generate a cocktail with Dark rum Lem...  "
      ],
      "text/html": [
       "<div>\n",
       "<style scoped>\n",
       "    .dataframe tbody tr th:only-of-type {\n",
       "        vertical-align: middle;\n",
       "    }\n",
       "\n",
       "    .dataframe tbody tr th {\n",
       "        vertical-align: top;\n",
       "    }\n",
       "\n",
       "    .dataframe thead th {\n",
       "        text-align: right;\n",
       "    }\n",
       "</style>\n",
       "<table border=\"1\" class=\"dataframe\">\n",
       "  <thead>\n",
       "    <tr style=\"text-align: right;\">\n",
       "      <th></th>\n",
       "      <th>id</th>\n",
       "      <th>name</th>\n",
       "      <th>alcoholic</th>\n",
       "      <th>category</th>\n",
       "      <th>glassType</th>\n",
       "      <th>instructions</th>\n",
       "      <th>drinkThumbnail</th>\n",
       "      <th>ingredients</th>\n",
       "      <th>ingredientMeasures</th>\n",
       "      <th>text</th>\n",
       "    </tr>\n",
       "  </thead>\n",
       "  <tbody>\n",
       "    <tr>\n",
       "      <th>0</th>\n",
       "      <td>0</td>\n",
       "      <td>A1</td>\n",
       "      <td>Alcoholic</td>\n",
       "      <td>Cocktail</td>\n",
       "      <td>Cocktail glass</td>\n",
       "      <td>Pour all ingredients into a cocktail shaker, m...</td>\n",
       "      <td>https://www.thecocktaildb.com/images/media/dri...</td>\n",
       "      <td>['Gin', 'Grand Marnier', 'Lemon Juice', 'Grena...</td>\n",
       "      <td>['1 3/4 shot ', '1 Shot ', '1/4 Shot', '1/8 Sh...</td>\n",
       "      <td>question Generate a cocktail with Gin Grand Ma...</td>\n",
       "    </tr>\n",
       "    <tr>\n",
       "      <th>1</th>\n",
       "      <td>1</td>\n",
       "      <td>ABC</td>\n",
       "      <td>Alcoholic</td>\n",
       "      <td>Shot</td>\n",
       "      <td>Shot glass</td>\n",
       "      <td>Layered in a shot glass.</td>\n",
       "      <td>https://www.thecocktaildb.com/images/media/dri...</td>\n",
       "      <td>['Amaretto', 'Baileys irish cream', 'Cognac']</td>\n",
       "      <td>['1/3 ', '1/3 ', '1/3 ']</td>\n",
       "      <td>question Generate a cocktail with Amaretto Bai...</td>\n",
       "    </tr>\n",
       "    <tr>\n",
       "      <th>2</th>\n",
       "      <td>2</td>\n",
       "      <td>Ace</td>\n",
       "      <td>Alcoholic</td>\n",
       "      <td>Cocktail</td>\n",
       "      <td>Martini Glass</td>\n",
       "      <td>Shake all the ingredients in a cocktail shaker...</td>\n",
       "      <td>https://www.thecocktaildb.com/images/media/dri...</td>\n",
       "      <td>['Gin', 'Grenadine', 'Heavy cream', 'Milk', 'E...</td>\n",
       "      <td>['2 shots ', '1/2 shot ', '1/2 shot ', '1/2 sh...</td>\n",
       "      <td>question Generate a cocktail with Gin Grenadin...</td>\n",
       "    </tr>\n",
       "    <tr>\n",
       "      <th>3</th>\n",
       "      <td>3</td>\n",
       "      <td>ACID</td>\n",
       "      <td>Alcoholic</td>\n",
       "      <td>Shot</td>\n",
       "      <td>Shot glass</td>\n",
       "      <td>Poor in the 151 first followed by the 101 serv...</td>\n",
       "      <td>https://www.thecocktaildb.com/images/media/dri...</td>\n",
       "      <td>['151 proof rum', 'Wild Turkey']</td>\n",
       "      <td>['1 oz Bacardi ', '1 oz ']</td>\n",
       "      <td>question Generate a cocktail with 151 proof ru...</td>\n",
       "    </tr>\n",
       "    <tr>\n",
       "      <th>4</th>\n",
       "      <td>4</td>\n",
       "      <td>Adam</td>\n",
       "      <td>Alcoholic</td>\n",
       "      <td>Ordinary Drink</td>\n",
       "      <td>Cocktail glass</td>\n",
       "      <td>In a shaker half-filled with ice cubes, combin...</td>\n",
       "      <td>https://www.thecocktaildb.com/images/media/dri...</td>\n",
       "      <td>['Dark rum', 'Lemon juice', 'Grenadine']</td>\n",
       "      <td>['2 oz ', '1 oz ', '1 tsp ']</td>\n",
       "      <td>question Generate a cocktail with Dark rum Lem...</td>\n",
       "    </tr>\n",
       "  </tbody>\n",
       "</table>\n",
       "</div>"
      ]
     },
     "execution_count": 4,
     "metadata": {},
     "output_type": "execute_result"
    }
   ],
   "execution_count": 4
  },
  {
   "metadata": {
    "ExecuteTime": {
     "end_time": "2025-01-24T16:26:09.414866Z",
     "start_time": "2025-01-24T16:26:09.409591Z"
    }
   },
   "cell_type": "code",
   "source": [
    "for column in df.columns:\n",
    "    print(column)"
   ],
   "id": "bccde4ba469466b5",
   "outputs": [
    {
     "name": "stdout",
     "output_type": "stream",
     "text": [
      "id\n",
      "name\n",
      "alcoholic\n",
      "category\n",
      "glassType\n",
      "instructions\n",
      "drinkThumbnail\n",
      "ingredients\n",
      "ingredientMeasures\n",
      "text\n"
     ]
    }
   ],
   "execution_count": 12
  },
  {
   "metadata": {
    "ExecuteTime": {
     "end_time": "2025-01-24T16:26:16.651160Z",
     "start_time": "2025-01-24T16:26:16.644572Z"
    }
   },
   "cell_type": "code",
   "source": "len(df)",
   "id": "4e2fcbd2d56ffd00",
   "outputs": [
    {
     "data": {
      "text/plain": [
       "425"
      ]
     },
     "execution_count": 13,
     "metadata": {},
     "output_type": "execute_result"
    }
   ],
   "execution_count": 13
  },
  {
   "metadata": {
    "ExecuteTime": {
     "end_time": "2025-01-24T16:31:24.620657Z",
     "start_time": "2025-01-24T16:31:24.614415Z"
    }
   },
   "cell_type": "code",
   "source": "df.iloc[0]",
   "id": "323cf67d16aa1275",
   "outputs": [
    {
     "data": {
      "text/plain": [
       "id                                                                    0\n",
       "name                                                                 A1\n",
       "alcoholic                                                     Alcoholic\n",
       "category                                                       Cocktail\n",
       "glassType                                                Cocktail glass\n",
       "instructions          Pour all ingredients into a cocktail shaker, m...\n",
       "drinkThumbnail        https://www.thecocktaildb.com/images/media/dri...\n",
       "ingredients           ['Gin', 'Grand Marnier', 'Lemon Juice', 'Grena...\n",
       "ingredientMeasures    ['1 3/4 shot ', '1 Shot ', '1/4 Shot', '1/8 Sh...\n",
       "text                  question Generate a cocktail with Gin Grand Ma...\n",
       "Name: 0, dtype: object"
      ]
     },
     "execution_count": 18,
     "metadata": {},
     "output_type": "execute_result"
    }
   ],
   "execution_count": 18
  },
  {
   "metadata": {
    "ExecuteTime": {
     "end_time": "2025-01-24T16:36:47.775952Z",
     "start_time": "2025-01-24T16:36:47.763932Z"
    }
   },
   "cell_type": "code",
   "source": [
    "df.drop(['id'], axis=1, inplace=True)\n",
    "df.head()"
   ],
   "id": "b1a53de69c70767a",
   "outputs": [
    {
     "data": {
      "text/plain": [
       "   name  alcoholic        category       glassType  \\\n",
       "0    A1  Alcoholic        Cocktail  Cocktail glass   \n",
       "1   ABC  Alcoholic            Shot      Shot glass   \n",
       "2   Ace  Alcoholic        Cocktail   Martini Glass   \n",
       "3  ACID  Alcoholic            Shot      Shot glass   \n",
       "4  Adam  Alcoholic  Ordinary Drink  Cocktail glass   \n",
       "\n",
       "                                        instructions  \\\n",
       "0  Pour all ingredients into a cocktail shaker, m...   \n",
       "1                           Layered in a shot glass.   \n",
       "2  Shake all the ingredients in a cocktail shaker...   \n",
       "3  Poor in the 151 first followed by the 101 serv...   \n",
       "4  In a shaker half-filled with ice cubes, combin...   \n",
       "\n",
       "                                      drinkThumbnail  \\\n",
       "0  https://www.thecocktaildb.com/images/media/dri...   \n",
       "1  https://www.thecocktaildb.com/images/media/dri...   \n",
       "2  https://www.thecocktaildb.com/images/media/dri...   \n",
       "3  https://www.thecocktaildb.com/images/media/dri...   \n",
       "4  https://www.thecocktaildb.com/images/media/dri...   \n",
       "\n",
       "                                         ingredients  \\\n",
       "0  ['Gin', 'Grand Marnier', 'Lemon Juice', 'Grena...   \n",
       "1      ['Amaretto', 'Baileys irish cream', 'Cognac']   \n",
       "2  ['Gin', 'Grenadine', 'Heavy cream', 'Milk', 'E...   \n",
       "3                   ['151 proof rum', 'Wild Turkey']   \n",
       "4           ['Dark rum', 'Lemon juice', 'Grenadine']   \n",
       "\n",
       "                                  ingredientMeasures  \\\n",
       "0  ['1 3/4 shot ', '1 Shot ', '1/4 Shot', '1/8 Sh...   \n",
       "1                           ['1/3 ', '1/3 ', '1/3 ']   \n",
       "2  ['2 shots ', '1/2 shot ', '1/2 shot ', '1/2 sh...   \n",
       "3                         ['1 oz Bacardi ', '1 oz ']   \n",
       "4                       ['2 oz ', '1 oz ', '1 tsp ']   \n",
       "\n",
       "                                                text  \n",
       "0  question Generate a cocktail with Gin Grand Ma...  \n",
       "1  question Generate a cocktail with Amaretto Bai...  \n",
       "2  question Generate a cocktail with Gin Grenadin...  \n",
       "3  question Generate a cocktail with 151 proof ru...  \n",
       "4  question Generate a cocktail with Dark rum Lem...  "
      ],
      "text/html": [
       "<div>\n",
       "<style scoped>\n",
       "    .dataframe tbody tr th:only-of-type {\n",
       "        vertical-align: middle;\n",
       "    }\n",
       "\n",
       "    .dataframe tbody tr th {\n",
       "        vertical-align: top;\n",
       "    }\n",
       "\n",
       "    .dataframe thead th {\n",
       "        text-align: right;\n",
       "    }\n",
       "</style>\n",
       "<table border=\"1\" class=\"dataframe\">\n",
       "  <thead>\n",
       "    <tr style=\"text-align: right;\">\n",
       "      <th></th>\n",
       "      <th>name</th>\n",
       "      <th>alcoholic</th>\n",
       "      <th>category</th>\n",
       "      <th>glassType</th>\n",
       "      <th>instructions</th>\n",
       "      <th>drinkThumbnail</th>\n",
       "      <th>ingredients</th>\n",
       "      <th>ingredientMeasures</th>\n",
       "      <th>text</th>\n",
       "    </tr>\n",
       "  </thead>\n",
       "  <tbody>\n",
       "    <tr>\n",
       "      <th>0</th>\n",
       "      <td>A1</td>\n",
       "      <td>Alcoholic</td>\n",
       "      <td>Cocktail</td>\n",
       "      <td>Cocktail glass</td>\n",
       "      <td>Pour all ingredients into a cocktail shaker, m...</td>\n",
       "      <td>https://www.thecocktaildb.com/images/media/dri...</td>\n",
       "      <td>['Gin', 'Grand Marnier', 'Lemon Juice', 'Grena...</td>\n",
       "      <td>['1 3/4 shot ', '1 Shot ', '1/4 Shot', '1/8 Sh...</td>\n",
       "      <td>question Generate a cocktail with Gin Grand Ma...</td>\n",
       "    </tr>\n",
       "    <tr>\n",
       "      <th>1</th>\n",
       "      <td>ABC</td>\n",
       "      <td>Alcoholic</td>\n",
       "      <td>Shot</td>\n",
       "      <td>Shot glass</td>\n",
       "      <td>Layered in a shot glass.</td>\n",
       "      <td>https://www.thecocktaildb.com/images/media/dri...</td>\n",
       "      <td>['Amaretto', 'Baileys irish cream', 'Cognac']</td>\n",
       "      <td>['1/3 ', '1/3 ', '1/3 ']</td>\n",
       "      <td>question Generate a cocktail with Amaretto Bai...</td>\n",
       "    </tr>\n",
       "    <tr>\n",
       "      <th>2</th>\n",
       "      <td>Ace</td>\n",
       "      <td>Alcoholic</td>\n",
       "      <td>Cocktail</td>\n",
       "      <td>Martini Glass</td>\n",
       "      <td>Shake all the ingredients in a cocktail shaker...</td>\n",
       "      <td>https://www.thecocktaildb.com/images/media/dri...</td>\n",
       "      <td>['Gin', 'Grenadine', 'Heavy cream', 'Milk', 'E...</td>\n",
       "      <td>['2 shots ', '1/2 shot ', '1/2 shot ', '1/2 sh...</td>\n",
       "      <td>question Generate a cocktail with Gin Grenadin...</td>\n",
       "    </tr>\n",
       "    <tr>\n",
       "      <th>3</th>\n",
       "      <td>ACID</td>\n",
       "      <td>Alcoholic</td>\n",
       "      <td>Shot</td>\n",
       "      <td>Shot glass</td>\n",
       "      <td>Poor in the 151 first followed by the 101 serv...</td>\n",
       "      <td>https://www.thecocktaildb.com/images/media/dri...</td>\n",
       "      <td>['151 proof rum', 'Wild Turkey']</td>\n",
       "      <td>['1 oz Bacardi ', '1 oz ']</td>\n",
       "      <td>question Generate a cocktail with 151 proof ru...</td>\n",
       "    </tr>\n",
       "    <tr>\n",
       "      <th>4</th>\n",
       "      <td>Adam</td>\n",
       "      <td>Alcoholic</td>\n",
       "      <td>Ordinary Drink</td>\n",
       "      <td>Cocktail glass</td>\n",
       "      <td>In a shaker half-filled with ice cubes, combin...</td>\n",
       "      <td>https://www.thecocktaildb.com/images/media/dri...</td>\n",
       "      <td>['Dark rum', 'Lemon juice', 'Grenadine']</td>\n",
       "      <td>['2 oz ', '1 oz ', '1 tsp ']</td>\n",
       "      <td>question Generate a cocktail with Dark rum Lem...</td>\n",
       "    </tr>\n",
       "  </tbody>\n",
       "</table>\n",
       "</div>"
      ]
     },
     "execution_count": 22,
     "metadata": {},
     "output_type": "execute_result"
    }
   ],
   "execution_count": 22
  },
  {
   "metadata": {},
   "cell_type": "markdown",
   "source": "## Creating a CSV agent ",
   "id": "dac8b64d0edd6c6f"
  },
  {
   "metadata": {
    "ExecuteTime": {
     "end_time": "2025-01-25T16:01:51.611809Z",
     "start_time": "2025-01-25T16:01:50.915120Z"
    }
   },
   "cell_type": "code",
   "source": [
    "# Creating an agent with create_csv_agent\n",
    "agent = create_csv_agent(\n",
    "    ChatOpenAI(),\n",
    "    \"data/final_cocktails.csv\",\n",
    "    agent_type=AgentType.ZERO_SHOT_REACT_DESCRIPTION,\n",
    "    allow_dangerous_code=True\n",
    ")"
   ],
   "id": "e4d203dfc1c50548",
   "outputs": [],
   "execution_count": 75
  },
  {
   "metadata": {},
   "cell_type": "markdown",
   "source": "### Adding memory to the chatbot",
   "id": "e1560528d51060f7"
  },
  {
   "metadata": {},
   "cell_type": "code",
   "outputs": [],
   "execution_count": null,
   "source": [
    "# Creating user input history variable\n",
    "history = \"\""
   ],
   "id": "afbbc4f1be989868"
  },
  {
   "metadata": {
    "ExecuteTime": {
     "end_time": "2025-01-25T16:04:08.127450Z",
     "start_time": "2025-01-25T16:03:55.116217Z"
    }
   },
   "cell_type": "code",
   "source": [
    "# Checking if user describes his preferences (very basic)\n",
    "user_input = input()\n",
    "if \"my favorite\" in user_input.lower():\n",
    "    history += user_input + \"; \"\n",
    "    \n",
    "agent.invoke(user_input + \" You can also use this info: \" + history)"
   ],
   "id": "e773c88dd8cfde88",
   "outputs": [
    {
     "data": {
      "text/plain": [
       "{'input': 'List the ingredients of Clover Club You can also use this info: My favorite ingredients are Gin and Lemon; ',\n",
       " 'output': 'Gin, Grenadine, Lemon, and Egg white.'}"
      ]
     },
     "execution_count": 80,
     "metadata": {},
     "output_type": "execute_result"
    }
   ],
   "execution_count": 80
  },
  {
   "metadata": {
    "ExecuteTime": {
     "end_time": "2025-01-25T17:22:56.661787Z",
     "start_time": "2025-01-25T17:22:55.317345Z"
    }
   },
   "cell_type": "code",
   "source": [
    "# creating a FAISS vector database for the history\n",
    "embeddings = OpenAIEmbeddings()\n",
    "faiss_index = FAISS.from_texts([\"\"], embeddings)"
   ],
   "id": "9f685880f70e060f",
   "outputs": [],
   "execution_count": 89
  },
  {
   "metadata": {
    "ExecuteTime": {
     "end_time": "2025-01-25T17:24:44.003824Z",
     "start_time": "2025-01-25T17:24:42.505024Z"
    }
   },
   "cell_type": "code",
   "source": "faiss_index.add_texts(history)",
   "id": "2c5f5733f0d0569f",
   "outputs": [
    {
     "data": {
      "text/plain": [
       "['395fb170-f067-4ba6-b001-c101d9b7b432',\n",
       " '31b3429f-20a6-4e19-833c-cb278e9902b0',\n",
       " '120ea088-5b88-4adf-8f32-58296b0ce231',\n",
       " 'c9f70cba-e1da-469c-b062-f868694d0d06',\n",
       " 'f11d6c49-3c23-4ce7-88e6-e9684e615c0c',\n",
       " 'fc084ca2-2973-4fd2-9c9b-21e593910099',\n",
       " '3240cc86-fe19-4687-aec4-fead0d6c31b1',\n",
       " 'b11001fe-f997-4ccc-8918-b0ddc3c22420',\n",
       " '2d7459c1-0da0-4cea-8c3b-4ff1fbb5a243',\n",
       " 'fd5890a4-3408-4837-83c6-150e57bf31df',\n",
       " '1520384a-31bc-4bdc-9773-6ae7a87d46af',\n",
       " '70ec580c-8b6d-449e-b36c-726d74d5f34f',\n",
       " 'c4acc760-004b-4fff-ba37-5d52e2fd8036',\n",
       " '7e34644d-7d04-4ca8-936c-991fa05674b1',\n",
       " 'cffa74c1-46a2-4f3c-b968-9c3366489273',\n",
       " 'fa2426e4-c67e-425f-ab9b-0e6e8e5d5b4c',\n",
       " '9589f358-a474-474c-b6bf-2f72d5098539',\n",
       " '010ccf5b-07db-4042-8157-5306488098ef',\n",
       " 'b6f33ac5-fab6-4a7b-b5ea-5f0a4e7a042f',\n",
       " '5d575f26-cc15-4aff-a146-fad44c04a043',\n",
       " 'da33ec6a-4590-4345-93b1-b8d5371fa7ee',\n",
       " '2763f2ef-8e02-4c82-9be3-f41f9bb95e34',\n",
       " 'e00ab55b-d341-4260-8616-56f488f4ecf0',\n",
       " '867cf1a0-3f40-454d-8dd3-cbd666d14b87',\n",
       " '0c910590-ad64-47e4-9122-ca7f56df8282',\n",
       " '45b7466d-627c-4302-a7b3-504ff8c17ba6',\n",
       " '43972277-f8f3-4c4c-9de6-b6ee84c50671',\n",
       " '8a5385bd-c854-4b14-b1de-5d4f734a10ad',\n",
       " '0a825727-747a-4517-b587-0aaad9c0c91b',\n",
       " 'b7a026d7-274e-496a-92c0-6e239c69765a',\n",
       " '696ee5d9-4a89-4b74-b08e-86227d9422f9',\n",
       " '12afa80b-1502-47dc-9bf1-ebdbd7108c07',\n",
       " 'b76f51fc-6b2a-4df8-9e93-05806bb11f61',\n",
       " 'abab4e63-2c54-4966-a193-9dd6e78fb1cf',\n",
       " '3e3abcd7-1143-47b9-b707-e3e871ed8325',\n",
       " 'e087e764-5ebe-458f-869e-46aa06489fdd',\n",
       " '5abf6fe2-6b1b-4bf3-9420-0d7f82b93f6a',\n",
       " '23ba6523-dd02-482a-81fa-983694ecf31c',\n",
       " 'fc1af62d-9c95-4050-934b-185e9da412c6',\n",
       " 'e6599b23-d026-43d7-8185-04e343c41bb0',\n",
       " '6da99758-07f4-46a3-a352-201fa71eb6ef',\n",
       " '5b02ec25-29d2-4c60-8de1-2a28383e9001',\n",
       " '57cb18b8-6ab9-4c92-b4c4-31ac43e126dc']"
      ]
     },
     "execution_count": 90,
     "metadata": {},
     "output_type": "execute_result"
    }
   ],
   "execution_count": 90
  },
  {
   "metadata": {
    "ExecuteTime": {
     "end_time": "2025-01-25T17:43:44.615377Z",
     "start_time": "2025-01-25T17:43:44.609916Z"
    }
   },
   "cell_type": "code",
   "source": [
    "# Checking if vector database works\n",
    "stored_texts = [doc.page_content for doc in faiss_index.docstore._dict.values()]\n",
    "history_loaded = \"\"\n",
    "for element in stored_texts:\n",
    "    history_loaded += element\n",
    "history_loaded"
   ],
   "id": "d78985d7f6815402",
   "outputs": [
    {
     "data": {
      "text/plain": [
       "'My favorite ingredients are Gin and Lemon; '"
      ]
     },
     "execution_count": 99,
     "metadata": {},
     "output_type": "execute_result"
    }
   ],
   "execution_count": 99
  },
  {
   "metadata": {
    "ExecuteTime": {
     "end_time": "2025-01-25T18:36:20.968414Z",
     "start_time": "2025-01-25T18:36:20.947769Z"
    }
   },
   "cell_type": "code",
   "source": [
    "faiss_index2 = FAISS.load_local(\"history\", embeddings, allow_dangerous_deserialization=True)\n",
    "stored_texts = [doc.page_content for doc in faiss_index2.docstore._dict.values()]\n",
    "history_loaded = \"\"\n",
    "for element in stored_texts:\n",
    "    history_loaded += element\n",
    "history_loaded"
   ],
   "id": "80abe491602d6e7e",
   "outputs": [
    {
     "data": {
      "text/plain": [
       "''"
      ]
     },
     "execution_count": 119,
     "metadata": {},
     "output_type": "execute_result"
    }
   ],
   "execution_count": 119
  },
  {
   "metadata": {},
   "cell_type": "markdown",
   "source": "## Checking memory reliability ",
   "id": "3ea55f87f6623125"
  },
  {
   "metadata": {
    "ExecuteTime": {
     "end_time": "2025-01-25T18:35:01.861859Z",
     "start_time": "2025-01-25T18:35:00.204469Z"
    }
   },
   "cell_type": "code",
   "source": [
    "user_input = \"My favorite ingredient is lemon.\"\n",
    "if \"my favorite\" in user_input.lower():\n",
    "    history += user_input + \"; \"\n",
    "    \n",
    "agent.invoke(user_input + \" You can also use this info: \" + history)[\"output\"]"
   ],
   "id": "9c78260f46c104a4",
   "outputs": [
    {
     "data": {
      "text/plain": [
       "'There are 104 cocktails in the dataframe that contain lemon in the ingredients.'"
      ]
     },
     "execution_count": 114,
     "metadata": {},
     "output_type": "execute_result"
    }
   ],
   "execution_count": 114
  },
  {
   "metadata": {
    "ExecuteTime": {
     "end_time": "2025-01-25T18:35:59.086263Z",
     "start_time": "2025-01-25T18:35:56.277608Z"
    }
   },
   "cell_type": "code",
   "source": [
    "user_input = \"Recommend me three cocktails which contain ny favorite ingredient.\"\n",
    "agent.invoke(user_input + \" You can also use this info: \" + history)[\"output\"]"
   ],
   "id": "cfac41bbd64faf66",
   "outputs": [
    {
     "data": {
      "text/plain": [
       "'Three cocktails that contain lemon as an ingredient are Dubonnet Cocktail, Lemon Shot, and Shark Attack.'"
      ]
     },
     "execution_count": 116,
     "metadata": {},
     "output_type": "execute_result"
    }
   ],
   "execution_count": 116
  }
 ],
 "metadata": {
  "kernelspec": {
   "display_name": "Python 3",
   "language": "python",
   "name": "python3"
  },
  "language_info": {
   "codemirror_mode": {
    "name": "ipython",
    "version": 2
   },
   "file_extension": ".py",
   "mimetype": "text/x-python",
   "name": "python",
   "nbconvert_exporter": "python",
   "pygments_lexer": "ipython2",
   "version": "2.7.6"
  }
 },
 "nbformat": 4,
 "nbformat_minor": 5
}
